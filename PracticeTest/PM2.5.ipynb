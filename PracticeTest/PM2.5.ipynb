{
 "cells": [
  {
   "cell_type": "markdown",
   "source": [
    "# PM2.5练习"
   ],
   "metadata": {
    "collapsed": false
   }
  },
  {
   "cell_type": "code",
   "execution_count": 1,
   "outputs": [
    {
     "name": "stdout",
     "output_type": "stream",
     "text": [
      "<class 'pandas.core.frame.DataFrame'>\n",
      "RangeIndex: 52584 entries, 0 to 52583\n",
      "Data columns (total 18 columns):\n",
      " #   Column           Non-Null Count  Dtype  \n",
      "---  ------           --------------  -----  \n",
      " 0   No               52584 non-null  int64  \n",
      " 1   year             52584 non-null  int64  \n",
      " 2   month            52584 non-null  int64  \n",
      " 3   day              52584 non-null  int64  \n",
      " 4   hour             52584 non-null  int64  \n",
      " 5   season           52584 non-null  int64  \n",
      " 6   PM_Dongsi        25052 non-null  float64\n",
      " 7   PM_Dongsihuan    20508 non-null  float64\n",
      " 8   PM_Nongzhanguan  24931 non-null  float64\n",
      " 9   PM_US Post       50387 non-null  float64\n",
      " 10  DEWP             52579 non-null  float64\n",
      " 11  HUMI             52245 non-null  float64\n",
      " 12  PRES             52245 non-null  float64\n",
      " 13  TEMP             52579 non-null  float64\n",
      " 14  cbwd             52579 non-null  object \n",
      " 15  Iws              52579 non-null  float64\n",
      " 16  precipitation    52100 non-null  float64\n",
      " 17  Iprec            52100 non-null  float64\n",
      "dtypes: float64(11), int64(6), object(1)\n",
      "memory usage: 7.2+ MB\n",
      "None\n",
      "   No  year  month  day  hour  season  PM_Dongsi  PM_Dongsihuan   \n",
      "0   1  2010      1    1     0       4        NaN            NaN  \\\n",
      "1   2  2010      1    1     1       4        NaN            NaN   \n",
      "2   3  2010      1    1     2       4        NaN            NaN   \n",
      "\n",
      "   PM_Nongzhanguan  PM_US Post  DEWP  HUMI    PRES  TEMP cbwd   Iws   \n",
      "0              NaN         NaN -21.0  43.0  1021.0 -11.0   NW  1.79  \\\n",
      "1              NaN         NaN -21.0  47.0  1020.0 -12.0   NW  4.92   \n",
      "2              NaN         NaN -21.0  43.0  1019.0 -11.0   NW  6.71   \n",
      "\n",
      "   precipitation  Iprec  \n",
      "0            0.0    0.0  \n",
      "1            0.0    0.0  \n",
      "2            0.0    0.0  \n"
     ]
    }
   ],
   "source": [
    "import pandas as pd\n",
    "from matplotlib import pyplot as plt\n",
    "file_path = './BeijingPM20100101_20151231.csv'\n",
    "df = pd.read_csv(file_path)\n",
    "print(df.info())\n",
    "print(df.head(3))"
   ],
   "metadata": {
    "collapsed": false,
    "ExecuteTime": {
     "start_time": "2023-06-21T16:50:02.577666Z",
     "end_time": "2023-06-21T16:50:03.105423Z"
    }
   }
  },
  {
   "cell_type": "code",
   "execution_count": 8,
   "outputs": [],
   "source": [
    "# 时间的年月日分开存储\n",
    "period = pd.PeriodIndex(year=df['year'],month=df['month'],day=df['day'],hour=df['hour'],freq='H')\n",
    "# 将时间合并存储到新的列中\n",
    "df['datetime']=period\n",
    "df.set_index('datetime',inplace=True)\n",
    "# 降采样\n",
    "                        # df = df.resample('7D').mean()\n",
    "                        # df.head()"
   ],
   "metadata": {
    "collapsed": false,
    "ExecuteTime": {
     "start_time": "2023-06-21T17:01:12.139386Z",
     "end_time": "2023-06-21T17:01:12.168077Z"
    }
   }
  },
  {
   "cell_type": "code",
   "execution_count": null,
   "outputs": [],
   "source": [],
   "metadata": {
    "collapsed": false
   }
  }
 ],
 "metadata": {
  "kernelspec": {
   "display_name": "Python 3",
   "language": "python",
   "name": "python3"
  },
  "language_info": {
   "codemirror_mode": {
    "name": "ipython",
    "version": 2
   },
   "file_extension": ".py",
   "mimetype": "text/x-python",
   "name": "python",
   "nbconvert_exporter": "python",
   "pygments_lexer": "ipython2",
   "version": "2.7.6"
  }
 },
 "nbformat": 4,
 "nbformat_minor": 0
}
