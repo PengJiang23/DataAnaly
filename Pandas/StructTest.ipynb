{
 "cells": [
  {
   "cell_type": "code",
   "execution_count": 1,
   "metadata": {
    "ExecuteTime": {
     "start_time": "2023-06-21T09:02:39.861151Z",
     "end_time": "2023-06-21T09:02:40.386020Z"
    },
    "collapsed": true
   },
   "outputs": [
    {
     "name": "stdout",
     "output_type": "stream",
     "text": [
      "a    10\n",
      "b    11\n",
      "c    12\n",
      "d    13\n",
      "e    14\n",
      "f    15\n",
      "h    16\n",
      "j    17\n",
      "k    18\n",
      "dtype: int64\n",
      "<class 'pandas.core.indexes.base.Index'>\n",
      "Index(['a', 'b', 'c', 'd', 'e', 'f', 'h', 'j', 'k', 'l'], dtype='object')\n",
      "<class 'numpy.ndarray'>\n",
      "[10 11 12 13 14 15 16 17 18 19]\n",
      "18\n",
      "2001    123.0\n",
      "1382     23.2\n",
      "2077     21.1\n",
      "dtype: float64\n",
      "year\n",
      "2001    123.0\n",
      "1382     23.2\n",
      "2077     21.1\n",
      "Name: 年份表, dtype: float64\n"
     ]
    }
   ],
   "source": [
    "import pandas as pd\n",
    "\n",
    "# pandas 数据结构 Series\n",
    "ser_obj = pd.Series(range(10, 20), index=list('abcdefhjkl'))\n",
    "# 头部\n",
    "print(ser_obj.head(9))\n",
    "print(type(ser_obj.index))\n",
    "print(ser_obj.index)\n",
    "print(type(ser_obj.values))\n",
    "print(ser_obj.values)\n",
    "print(ser_obj[8])\n",
    "\n",
    "# dict 构建series\n",
    "year_dict = {2001: 123, 1382: 23.2, 2077: 21.1}\n",
    "ser_obj1 = pd.Series(year_dict)\n",
    "print(ser_obj1)\n",
    "\n",
    "# 为index、series取别名\n",
    "ser_obj1.name = '年份表'\n",
    "ser_obj1.index.name = 'year'\n",
    "print(ser_obj1)"
   ]
  },
  {
   "cell_type": "code",
   "execution_count": 49,
   "outputs": [
    {
     "name": "stdout",
     "output_type": "stream",
     "text": [
      "   0  1   2   3\n",
      "0  0  1   2   3\n",
      "1  4  5   6   7\n",
      "2  8  9  10  11\n",
      "[[ 0.15966276 -1.51436794  0.74079167  0.03841277]\n",
      " [-1.63728101  1.37417529  0.79962169  2.28971619]\n",
      " [-0.57224341  0.58040952  0.63424842 -0.69408966]]\n",
      "--------------------\n",
      "   A          B    C  D       E        F\n",
      "0  1 2019-09-26  1.0  3  python  wangdao\n",
      "1  1 2019-09-27  1.0  3    java  wangdao\n",
      "2  1 2019-09-28  1.0  3     c++  wangdao\n",
      "3  1 2019-09-29  1.0  3       c  wangdao\n",
      "0    1\n",
      "1    1\n",
      "2    1\n",
      "3    1\n",
      "Name: A, dtype: int64\n",
      "   A          B    C       E        F    h\n",
      "0  1 2019-09-26  1.0  python  wangdao  4.0\n",
      "1  1 2019-09-27  1.0    java  wangdao  4.0\n",
      "2  1 2019-09-28  1.0     c++  wangdao  4.0\n",
      "3  1 2019-09-29  1.0       c  wangdao  4.0\n",
      "           B        F\n",
      "0 2019-09-26  wangdao\n",
      "1 2019-09-27  wangdao\n",
      "2 2019-09-28  wangdao\n",
      "--------------------\n",
      "           B        F\n",
      "0 2019-09-26  wangdao\n",
      "1 2019-09-27  wangdao\n",
      "2 2019-09-28  wangdao\n"
     ]
    },
    {
     "data": {
      "text/plain": "A             int64\nB    datetime64[ns]\nC           float32\nE            object\nF            object\nh           float32\ndtype: object"
     },
     "execution_count": 49,
     "metadata": {},
     "output_type": "execute_result"
    }
   ],
   "source": [
    "import numpy as np\n",
    "import pandas as pd\n",
    "\n",
    "# DataFrame的构建\n",
    "a = pd.DataFrame(np.arange(12).reshape(3, 4))\n",
    "print(a)\n",
    "b = np.random.randn(3, 4)\n",
    "print(b)\n",
    "print('-' * 20)\n",
    "# dict 构建\n",
    "dict_data = {'A': 1,\n",
    "             'B': pd.date_range('20190926', periods=4),\n",
    "             'C': pd.Series(1, index=list(range(4)), dtype='float32'),\n",
    "             'D': np.array([3] * 4, dtype='int32'),\n",
    "             'E': ['python', 'java', 'c++', 'c'],\n",
    "             'F': 'wangdao'}\n",
    "c = pd.DataFrame(dict_data)\n",
    "print(c)\n",
    "# 列索引操作\n",
    "print(c['A'])\n",
    "c['h'] = c['C'] * 4\n",
    "del (c['D'])\n",
    "print(c)\n",
    "# 索引名切片\n",
    "print(c.loc['0':'2', ['B', 'F']])\n",
    "print('-' * 20)\n",
    "# 基于索引编号进行切片\n",
    "print(c.iloc[0:3, [1, 4]])\n",
    "c.dtypes"
   ],
   "metadata": {
    "collapsed": false,
    "ExecuteTime": {
     "start_time": "2023-06-18T20:45:24.543732Z",
     "end_time": "2023-06-18T20:45:24.603456Z"
    }
   }
  },
  {
   "cell_type": "code",
   "execution_count": 1,
   "outputs": [
    {
     "name": "stdout",
     "output_type": "stream",
     "text": [
      "0    15.0\n",
      "1    17.0\n",
      "2    19.0\n",
      "3    21.0\n",
      "4    23.0\n",
      "5     NaN\n",
      "6     NaN\n",
      "7     NaN\n",
      "8     NaN\n",
      "9     NaN\n",
      "dtype: float64\n",
      "     a    b   c\n",
      "0  2.0  2.0 NaN\n",
      "1  2.0  2.0 NaN\n",
      "2  NaN  NaN NaN\n",
      "0    15.0\n",
      "1    17.0\n",
      "2    19.0\n",
      "3    21.0\n",
      "4    23.0\n",
      "5    15.0\n",
      "6    16.0\n",
      "7    17.0\n",
      "8    18.0\n",
      "9    19.0\n",
      "dtype: float64\n",
      "     a    b    c\n",
      "0  0.0  0.0 -3.0\n",
      "1  0.0  0.0 -3.0\n",
      "2 -3.0 -3.0 -3.0\n",
      "--------------------\n",
      "          0         1         2         3         4         5\n",
      "0  0.932974  0.109161  1.865406  1.457567  0.812741  0.545392\n",
      "1  0.317812  1.278414  1.776520  0.155828  4.111979  2.665433\n",
      "2  0.993221  1.112622  1.181274  1.936307  0.232907  0.221762\n",
      "3  1.556675  0.407524  0.731760  1.429567  0.895002  3.713514\n",
      "0   -0.109161\n",
      "1    0.317812\n",
      "2    0.232907\n",
      "3    0.895002\n",
      "dtype: float64\n",
      "       0      1      2      3      4      5\n",
      "0  -0.93  -0.11  -1.87  -1.46  -0.81  -0.55\n",
      "1   0.32  -1.28  -1.78  -0.16  -4.11  -2.67\n",
      "2  -0.99  -1.11  -1.18  -1.94   0.23  -0.22\n",
      "3  -1.56  -0.41  -0.73  -1.43   0.90  -3.71\n"
     ]
    }
   ],
   "source": [
    "\n",
    "import numpy as np\n",
    "import pandas as pd\n",
    "\n",
    "# 对齐操作\n",
    "s1 = pd.Series(range(10, 20), index=range(10))\n",
    "s2 = pd.Series(range(5, 10), index=range(5))\n",
    "print(s1 + s2)\n",
    "\n",
    "d1 = pd.DataFrame(np.ones((2, 2)), columns=['a', 'b'])\n",
    "d2 = pd.DataFrame(np.ones((3, 3)), columns=['a', 'b', 'c'])\n",
    "print(d1 + d2)\n",
    "d3 = pd.DataFrame(np.random.randn(4, 6) - 1)\n",
    "# 填充数据 add  sub div mul 可选字段fill_value填充\n",
    "print(s1.add(s2, fill_value=0))\n",
    "print(d1.sub(d2, fill_value=-2.))\n",
    "print('-' * 20)\n",
    "print(np.abs(d3))\n",
    "# 作用到指定轴方向数据\n",
    "print(d3.apply(lambda x: x.max(), axis=1))\n",
    "# 作用到每个数据\n",
    "print(d3.applymap(lambda x: '%.2f' % x))"
   ],
   "metadata": {
    "collapsed": false,
    "ExecuteTime": {
     "start_time": "2023-06-20T10:54:33.486659Z",
     "end_time": "2023-06-20T10:54:33.743873Z"
    }
   }
  },
  {
   "cell_type": "code",
   "execution_count": 18,
   "outputs": [
    {
     "name": "stdout",
     "output_type": "stream",
     "text": [
      "2      21\n",
      "8      13\n",
      "17     10\n",
      "28     17\n",
      "29     20\n",
      "30     15\n",
      "94     16\n",
      "120    14\n",
      "140    19\n",
      "145    18\n",
      "153    12\n",
      "162    11\n",
      "162    24\n",
      "165    22\n",
      "168    23\n",
      "dtype: int64\n",
      "          4         6         2         1         9         0\n",
      "a  0.110397 -1.497829 -0.466893 -1.883658 -0.446508 -2.136137\n",
      "b -1.518125 -1.164549 -1.012391 -1.605042 -0.855233 -3.860698\n",
      "e -0.258898 -0.943417 -2.335238  0.536673 -1.470872 -1.437847\n",
      "c -1.872298 -1.102281 -2.950146 -1.647242 -0.975542 -1.835190\n",
      "          9         6         4         2         1         0\n",
      "a -0.446508 -1.497829  0.110397 -0.466893 -1.883658 -2.136137\n",
      "b -0.855233 -1.164549 -1.518125 -1.012391 -1.605042 -3.860698\n",
      "e -1.470872 -0.943417 -0.258898 -2.335238  0.536673 -1.437847\n",
      "c -0.975542 -1.102281 -1.872298 -2.950146 -1.647242 -1.835190\n",
      "          4         6         2         1         9         0\n",
      "b -1.518125 -1.164549 -1.012391 -1.605042 -0.855233 -3.860698\n",
      "a  0.110397 -1.497829 -0.466893 -1.883658 -0.446508 -2.136137\n",
      "c -1.872298 -1.102281 -2.950146 -1.647242 -0.975542 -1.835190\n",
      "e -0.258898 -0.943417 -2.335238  0.536673 -1.470872 -1.437847\n",
      "     a    b   c\n",
      "0  2.0  2.0 NaN\n",
      "1  2.0  2.0 NaN\n",
      "2  NaN  NaN NaN\n",
      "       a      b     c\n",
      "0  False  False  True\n",
      "1  False  False  True\n",
      "2   True   True  True\n",
      "Empty DataFrame\n",
      "Columns: [a, b, c]\n",
      "Index: []\n",
      "     a    b    c\n",
      "0  2.0  2.0  5.4\n",
      "1  2.0  2.0  5.4\n",
      "2  5.4  5.4  5.4\n"
     ]
    }
   ],
   "source": [
    "s1 = pd.Series(range(10, 25), index=np.random.randint(200, size=15))\n",
    "# series 索引排序\n",
    "print(s1.sort_index())\n",
    "\n",
    "d3 = pd.DataFrame(np.random.randn(4, 6) - 1,\n",
    "                  index=['a', 'b', 'e', 'c'],\n",
    "                  columns=['4', '6', '2', '1', '9', '0'])\n",
    "print(d3)\n",
    "# ascending 降序/升序排序\n",
    "print(d3.sort_index(axis=1, ascending=False))\n",
    "# 值排序，只能指定列名columns\n",
    "print(d3.sort_values(by='0'))\n",
    "\n",
    "d4 = d1 + d2\n",
    "print(d4)\n",
    "# 控制判断\n",
    "print(d4.isnull())\n",
    "# 缺失数据，丢弃对应行列\n",
    "print(d4.dropna())\n",
    "# 填充缺失数据\n",
    "print(d4.fillna(5.4))"
   ],
   "metadata": {
    "collapsed": false,
    "ExecuteTime": {
     "start_time": "2023-06-20T13:03:09.026682Z",
     "end_time": "2023-06-20T13:03:09.042841Z"
    }
   }
  },
  {
   "cell_type": "code",
   "execution_count": 21,
   "outputs": [
    {
     "name": "stdout",
     "output_type": "stream",
     "text": [
      "a  0     1.023341\n",
      "   1     2.668062\n",
      "   2     0.187836\n",
      "   3     1.836211\n",
      "b  4     1.497297\n",
      "   5    -0.428820\n",
      "   6     0.395028\n",
      "   7    -0.202745\n",
      "c  8     1.384748\n",
      "   9    -0.972670\n",
      "   10   -1.095484\n",
      "   11   -0.206702\n",
      "dtype: float64\n",
      "0    1.023341\n",
      "1    2.668062\n",
      "2    0.187836\n",
      "3    1.836211\n",
      "dtype: float64\n",
      "b    1.497297\n",
      "dtype: float64\n",
      "1.38474827064492\n",
      "           a         b         c\n",
      "0   1.023341       NaN       NaN\n",
      "1   2.668062       NaN       NaN\n",
      "2   0.187836       NaN       NaN\n",
      "3   1.836211       NaN       NaN\n",
      "4        NaN  1.497297       NaN\n",
      "5        NaN -0.428820       NaN\n",
      "6        NaN  0.395028       NaN\n",
      "7        NaN -0.202745       NaN\n",
      "8        NaN       NaN  1.384748\n",
      "9        NaN       NaN -0.972670\n",
      "10       NaN       NaN -1.095484\n",
      "11       NaN       NaN -0.206702\n",
      "0   a    1.023341\n",
      "1   a    2.668062\n",
      "2   a    0.187836\n",
      "3   a    1.836211\n",
      "4   b    1.497297\n",
      "5   b   -0.428820\n",
      "6   b    0.395028\n",
      "7   b   -0.202745\n",
      "8   c    1.384748\n",
      "9   c   -0.972670\n",
      "10  c   -1.095484\n",
      "11  c   -0.206702\n",
      "dtype: float64\n"
     ]
    }
   ],
   "source": [
    "import pandas as pd\n",
    "import numpy as np\n",
    "\n",
    "s1 = pd.Series(np.random.randn(12), index=[['a', 'a', 'a', 'a', 'b', 'b', 'b', 'b', 'c', 'c', 'c', 'c'],\n",
    "                                           [0, 1, 2, 3, 4, 5, 6, 7, 8, 9, 10, 11]])\n",
    "# 层级索引\n",
    "# print(s1.index)\n",
    "# print(type(s1.index))\n",
    "print(s1)\n",
    "# 获取数据\n",
    "# 外层数据获取\n",
    "print(s1['a'])\n",
    "# 内层选取\n",
    "print(s1[:, 4])\n",
    "#\n",
    "print(s1['c',8])\n",
    "# 内外层索引交换\n",
    "    # print(s1.swaplevel())\n",
    "# 索引“降维”，二级索引->dataframe类型 参数为层级所以层数，可以指定层级为columns\n",
    "print(s1.unstack(0))"
   ],
   "metadata": {
    "collapsed": false,
    "ExecuteTime": {
     "start_time": "2023-06-20T14:52:50.696604Z",
     "end_time": "2023-06-20T14:52:50.717735Z"
    }
   }
  },
  {
   "cell_type": "code",
   "execution_count": 1,
   "outputs": [
    {
     "name": "stdout",
     "output_type": "stream",
     "text": [
      "          0         1         2         3         4\n",
      "0 -0.029929  0.260997 -0.108921  0.510665  0.366114\n",
      "1  1.765634  0.037075  1.319921 -1.407913  0.183348\n",
      "2 -0.524506 -1.515550  0.918815 -0.954792 -1.049429\n",
      "--------------------\n",
      "0    1.765634\n",
      "1    0.260997\n",
      "2    1.319921\n",
      "3    0.510665\n",
      "4    0.366114\n",
      "dtype: float64\n",
      "              0         1         2         3         4\n",
      "count  3.000000  3.000000  3.000000  3.000000  3.000000\n",
      "mean   0.403733 -0.405826  0.709938 -0.617347 -0.166656\n",
      "std    1.205086  0.967549  0.736967  1.002815  0.769947\n",
      "min   -0.524506 -1.515550 -0.108921 -1.407913 -1.049429\n",
      "25%   -0.277218 -0.739237  0.404947 -1.181353 -0.433041\n",
      "50%   -0.029929  0.037075  0.918815 -0.954792  0.183348\n",
      "75%    0.867852  0.149036  1.119368 -0.222064  0.274731\n",
      "max    1.765634  0.260997  1.319921  0.510665  0.366114\n"
     ]
    }
   ],
   "source": [
    "import pandas as pd\n",
    "import numpy as np\n",
    "s1 = pd.DataFrame(np.random.randn(3,5),index=range(3),columns=range(5))\n",
    "print(s1)\n",
    "print('-'*20)\n",
    "# Pandas内置计算函数,skipna跳过缺失值  内置sum mean max min std ...\n",
    "print(s1.max(axis=0,skipna=False))\n",
    "# 数据统一进行多个计算（默认的）\n",
    "print(s1.describe())"
   ],
   "metadata": {
    "collapsed": false,
    "ExecuteTime": {
     "start_time": "2023-06-20T16:44:31.127420Z",
     "end_time": "2023-06-20T16:44:31.372424Z"
    }
   }
  },
  {
   "cell_type": "code",
   "execution_count": 2,
   "outputs": [
    {
     "name": "stdout",
     "output_type": "stream",
     "text": [
      "  key1   key2     data1     data2\n",
      "0    a    one -1.117657 -0.226540\n",
      "1    b    one  0.564864 -0.808608\n",
      "2    a    two -0.721997  0.113026\n",
      "3    b  three  0.182954 -0.652602\n",
      "4    a    two -0.995119  0.880456\n",
      "5    b    two -0.771945 -0.616144\n",
      "6    a    one  0.730544  0.286989\n",
      "7    a  three -0.702447  1.450673\n",
      "key1\n",
      "a   -0.561335\n",
      "b   -0.008042\n",
      "Name: data1, dtype: float64\n",
      "key1\n",
      "a    5\n",
      "b    3\n",
      "Name: data1, dtype: int64\n",
      "key1  key2 \n",
      "a     one      2\n",
      "      three    1\n",
      "      two      2\n",
      "b     one      1\n",
      "      three    1\n",
      "      two      1\n",
      "dtype: int64\n",
      "               data1     data2\n",
      "key2  key1                    \n",
      "one   a    -0.193557  0.030224\n",
      "      b     0.564864 -0.808608\n",
      "three a    -0.702447  1.450673\n",
      "      b     0.182954 -0.652602\n",
      "two   a    -0.858558  0.496741\n",
      "      b    -0.771945 -0.616144\n"
     ]
    }
   ],
   "source": [
    "# pandas 分组、聚合\n",
    "import pandas as pd\n",
    "import numpy as np\n",
    "dict_obj = {'key1' : ['a', 'b', 'a', 'b',\n",
    "                      'a', 'b', 'a', 'a'],\n",
    "            'key2' : ['one', 'one', 'two', 'three',\n",
    "                      'two', 'two', 'one', 'three'],\n",
    "            'data1': np.random.randn(8),\n",
    "            'data2': np.random.randn(8)}\n",
    "s1 = pd.DataFrame(dict_obj)\n",
    "print(s1)\n",
    "# 只能由columns进行分组\n",
    "print(s1['data1'].groupby(s1['key1']).mean())\n",
    "# size显示分组及组成员个数\n",
    "print(s1['data1'].groupby(s1['key1']).size())\n",
    "print(s1.groupby([s1['key1'],s1['key2']]).size())\n",
    "print(s1.groupby(['key2','key1']).mean())"
   ],
   "metadata": {
    "collapsed": false,
    "ExecuteTime": {
     "start_time": "2023-06-21T09:02:59.741963Z",
     "end_time": "2023-06-21T09:02:59.771552Z"
    }
   }
  },
  {
   "cell_type": "code",
   "execution_count": 3,
   "outputs": [
    {
     "name": "stdout",
     "output_type": "stream",
     "text": [
      "DatetimeIndex(['2019-01-23', '2019-01-24', '2019-01-25', '2019-01-26',\n",
      "               '2019-01-27', '2019-01-28'],\n",
      "              dtype='datetime64[ns]', freq='D')\n"
     ]
    }
   ],
   "source": [
    "# pandas 时间序列\n",
    "print(pd.date_range('20190123', periods=6))"
   ],
   "metadata": {
    "collapsed": false,
    "ExecuteTime": {
     "start_time": "2023-06-21T09:03:03.636121Z",
     "end_time": "2023-06-21T09:03:03.652195Z"
    }
   }
  },
  {
   "cell_type": "code",
   "execution_count": 1,
   "outputs": [],
   "source": [
    "# 重采样\n"
   ],
   "metadata": {
    "collapsed": false,
    "ExecuteTime": {
     "start_time": "2023-06-21T17:01:27.570254Z",
     "end_time": "2023-06-21T17:01:27.584574Z"
    }
   }
  },
  {
   "cell_type": "code",
   "execution_count": 11,
   "outputs": [
    {
     "name": "stdout",
     "output_type": "stream",
     "text": [
      "  key1   key2  data1  data2\n",
      "0    a    one      6      3\n",
      "1    b    one      4      9\n",
      "2    a    two      7      9\n",
      "3    b  three      2      7\n",
      "4    a    two      7      8\n",
      "5    b    two      9      3\n",
      "6    a    one      8      2\n",
      "7    a  three      8      7\n",
      "              前面标签 key2  前面标签 data1  前面标签 data2\n",
      "key1                                           \n",
      "a     onetwotwoonethree          36          29\n",
      "b           onethreetwo          15          19\n"
     ]
    }
   ],
   "source": [
    "import numpy as np\n",
    "import pandas as pd\n",
    "# 分组运算\n",
    "dict_obj = {'key1' : ['a', 'b', 'a', 'b',\n",
    "                      'a', 'b', 'a', 'a'],\n",
    "            'key2' : ['one', 'one', 'two', 'three',\n",
    "                      'two', 'two', 'one', 'three'],\n",
    "            'data1': np.random.randint(1, 10, 8),\n",
    "            'data2': np.random.randint(1, 10, 8)}\n",
    "df_obj = pd.DataFrame(dict_obj)\n",
    "print(df_obj)\n",
    "# add_prefix在columns名前加标签，add_suffix后面\n",
    "sum1 = df_obj.groupby('key1').sum().add_prefix('前面标签 ')\n",
    "print(df_obj.groupby('key1').sum().add_prefix('前面标签 '))"
   ],
   "metadata": {
    "collapsed": false,
    "ExecuteTime": {
     "start_time": "2023-06-21T17:14:47.164006Z",
     "end_time": "2023-06-21T17:14:47.184830Z"
    }
   }
  },
  {
   "cell_type": "code",
   "execution_count": 13,
   "outputs": [
    {
     "data": {
      "text/plain": "  key1   key2  data1  data2          前面标签 key2  前面标签 data1  前面标签 data2\n0    a    one      6      3  onetwotwoonethree          36          29\n2    a    two      7      9  onetwotwoonethree          36          29\n4    a    two      7      8  onetwotwoonethree          36          29\n6    a    one      8      2  onetwotwoonethree          36          29\n7    a  three      8      7  onetwotwoonethree          36          29\n1    b    one      4      9        onethreetwo          15          19\n3    b  three      2      7        onethreetwo          15          19\n5    b    two      9      3        onethreetwo          15          19",
      "text/html": "<div>\n<style scoped>\n    .dataframe tbody tr th:only-of-type {\n        vertical-align: middle;\n    }\n\n    .dataframe tbody tr th {\n        vertical-align: top;\n    }\n\n    .dataframe thead th {\n        text-align: right;\n    }\n</style>\n<table border=\"1\" class=\"dataframe\">\n  <thead>\n    <tr style=\"text-align: right;\">\n      <th></th>\n      <th>key1</th>\n      <th>key2</th>\n      <th>data1</th>\n      <th>data2</th>\n      <th>前面标签 key2</th>\n      <th>前面标签 data1</th>\n      <th>前面标签 data2</th>\n    </tr>\n  </thead>\n  <tbody>\n    <tr>\n      <th>0</th>\n      <td>a</td>\n      <td>one</td>\n      <td>6</td>\n      <td>3</td>\n      <td>onetwotwoonethree</td>\n      <td>36</td>\n      <td>29</td>\n    </tr>\n    <tr>\n      <th>2</th>\n      <td>a</td>\n      <td>two</td>\n      <td>7</td>\n      <td>9</td>\n      <td>onetwotwoonethree</td>\n      <td>36</td>\n      <td>29</td>\n    </tr>\n    <tr>\n      <th>4</th>\n      <td>a</td>\n      <td>two</td>\n      <td>7</td>\n      <td>8</td>\n      <td>onetwotwoonethree</td>\n      <td>36</td>\n      <td>29</td>\n    </tr>\n    <tr>\n      <th>6</th>\n      <td>a</td>\n      <td>one</td>\n      <td>8</td>\n      <td>2</td>\n      <td>onetwotwoonethree</td>\n      <td>36</td>\n      <td>29</td>\n    </tr>\n    <tr>\n      <th>7</th>\n      <td>a</td>\n      <td>three</td>\n      <td>8</td>\n      <td>7</td>\n      <td>onetwotwoonethree</td>\n      <td>36</td>\n      <td>29</td>\n    </tr>\n    <tr>\n      <th>1</th>\n      <td>b</td>\n      <td>one</td>\n      <td>4</td>\n      <td>9</td>\n      <td>onethreetwo</td>\n      <td>15</td>\n      <td>19</td>\n    </tr>\n    <tr>\n      <th>3</th>\n      <td>b</td>\n      <td>three</td>\n      <td>2</td>\n      <td>7</td>\n      <td>onethreetwo</td>\n      <td>15</td>\n      <td>19</td>\n    </tr>\n    <tr>\n      <th>5</th>\n      <td>b</td>\n      <td>two</td>\n      <td>9</td>\n      <td>3</td>\n      <td>onethreetwo</td>\n      <td>15</td>\n      <td>19</td>\n    </tr>\n  </tbody>\n</table>\n</div>"
     },
     "execution_count": 13,
     "metadata": {},
     "output_type": "execute_result"
    }
   ],
   "source": [
    "# 表的合并，参数限定了只能左右拼接\n",
    "# on 拼接的主键，如果俩表列名不一样但是内容一样可以使用left/right_on\n",
    "k1_sum = pd.merge(df_obj,sum1,left_on='key1',right_index=True)\n",
    "k1_sum"
   ],
   "metadata": {
    "collapsed": false,
    "ExecuteTime": {
     "start_time": "2023-06-21T17:17:37.147655Z",
     "end_time": "2023-06-21T17:17:37.185158Z"
    }
   }
  },
  {
   "cell_type": "code",
   "execution_count": 17,
   "outputs": [
    {
     "name": "stdout",
     "output_type": "stream",
     "text": [
      "  key1   key2  data1  data2\n",
      "0    a    one      8      9\n",
      "1    b    one      5      9\n",
      "2    a    two      6      8\n",
      "3    b  three      2      6\n",
      "4    a    two      3      5\n",
      "5    b    two      2      1\n",
      "6    a    one      6      1\n",
      "7    a  three      4      8\n",
      "            sum_key2  sum_data1  sum_data2\n",
      "0  onetwotwoonethree         27         31\n",
      "1        onethreetwo          9         16\n",
      "2  onetwotwoonethree         27         31\n",
      "3        onethreetwo          9         16\n",
      "4  onetwotwoonethree         27         31\n",
      "5        onethreetwo          9         16\n",
      "6  onetwotwoonethree         27         31\n",
      "7  onetwotwoonethree         27         31\n",
      "Index(['sum_key2', 'sum_data1', 'sum_data2'], dtype='object')\n"
     ]
    },
    {
     "data": {
      "text/plain": "  key1   key2  data1  data2           sum_key2  sum_data1  sum_data2\n0    a    one      8      9  onetwotwoonethree         27         31\n1    b    one      5      9        onethreetwo          9         16\n2    a    two      6      8  onetwotwoonethree         27         31\n3    b  three      2      6        onethreetwo          9         16\n4    a    two      3      5  onetwotwoonethree         27         31\n5    b    two      2      1        onethreetwo          9         16\n6    a    one      6      1  onetwotwoonethree         27         31\n7    a  three      4      8  onetwotwoonethree         27         31",
      "text/html": "<div>\n<style scoped>\n    .dataframe tbody tr th:only-of-type {\n        vertical-align: middle;\n    }\n\n    .dataframe tbody tr th {\n        vertical-align: top;\n    }\n\n    .dataframe thead th {\n        text-align: right;\n    }\n</style>\n<table border=\"1\" class=\"dataframe\">\n  <thead>\n    <tr style=\"text-align: right;\">\n      <th></th>\n      <th>key1</th>\n      <th>key2</th>\n      <th>data1</th>\n      <th>data2</th>\n      <th>sum_key2</th>\n      <th>sum_data1</th>\n      <th>sum_data2</th>\n    </tr>\n  </thead>\n  <tbody>\n    <tr>\n      <th>0</th>\n      <td>a</td>\n      <td>one</td>\n      <td>8</td>\n      <td>9</td>\n      <td>onetwotwoonethree</td>\n      <td>27</td>\n      <td>31</td>\n    </tr>\n    <tr>\n      <th>1</th>\n      <td>b</td>\n      <td>one</td>\n      <td>5</td>\n      <td>9</td>\n      <td>onethreetwo</td>\n      <td>9</td>\n      <td>16</td>\n    </tr>\n    <tr>\n      <th>2</th>\n      <td>a</td>\n      <td>two</td>\n      <td>6</td>\n      <td>8</td>\n      <td>onetwotwoonethree</td>\n      <td>27</td>\n      <td>31</td>\n    </tr>\n    <tr>\n      <th>3</th>\n      <td>b</td>\n      <td>three</td>\n      <td>2</td>\n      <td>6</td>\n      <td>onethreetwo</td>\n      <td>9</td>\n      <td>16</td>\n    </tr>\n    <tr>\n      <th>4</th>\n      <td>a</td>\n      <td>two</td>\n      <td>3</td>\n      <td>5</td>\n      <td>onetwotwoonethree</td>\n      <td>27</td>\n      <td>31</td>\n    </tr>\n    <tr>\n      <th>5</th>\n      <td>b</td>\n      <td>two</td>\n      <td>2</td>\n      <td>1</td>\n      <td>onethreetwo</td>\n      <td>9</td>\n      <td>16</td>\n    </tr>\n    <tr>\n      <th>6</th>\n      <td>a</td>\n      <td>one</td>\n      <td>6</td>\n      <td>1</td>\n      <td>onetwotwoonethree</td>\n      <td>27</td>\n      <td>31</td>\n    </tr>\n    <tr>\n      <th>7</th>\n      <td>a</td>\n      <td>three</td>\n      <td>4</td>\n      <td>8</td>\n      <td>onetwotwoonethree</td>\n      <td>27</td>\n      <td>31</td>\n    </tr>\n  </tbody>\n</table>\n</div>"
     },
     "execution_count": 17,
     "metadata": {},
     "output_type": "execute_result"
    }
   ],
   "source": [
    "import numpy as np\n",
    "import pandas as pd\n",
    "# 合并，合并后数据形状不变，transform速度快，代码短\n",
    "dict_obj = {'key1' : ['a', 'b', 'a', 'b',\n",
    "                      'a', 'b', 'a', 'a'],\n",
    "            'key2' : ['one', 'one', 'two', 'three',\n",
    "                      'two', 'two', 'one', 'three'],\n",
    "            'data1': np.random.randint(1, 10, 8),\n",
    "            'data2': np.random.randint(1, 10, 8)}\n",
    "df_obj = pd.DataFrame(dict_obj)\n",
    "print(df_obj)\n",
    "sum_tf = df_obj.groupby('key1').transform(np.sum).add_prefix('sum_')\n",
    "df_obj[sum_tf.columns] = sum_tf\n",
    "df_obj"
   ],
   "metadata": {
    "collapsed": false,
    "ExecuteTime": {
     "start_time": "2023-06-21T17:25:45.052924Z",
     "end_time": "2023-06-21T17:25:45.070240Z"
    }
   }
  },
  {
   "cell_type": "code",
   "execution_count": 2,
   "outputs": [
    {
     "name": "stdout",
     "output_type": "stream",
     "text": [
      " 驱动器 E 中的卷是 新加卷\n",
      " 卷的序列号是 A823-8A6A\n",
      "\n",
      " E:\\Code\\DataAnaly\\Pandas 的目录\n",
      "\n",
      "2023/06/22  19:44    <DIR>          .\n",
      "2023/06/22  13:02    <DIR>          ..\n",
      "2023/06/18  10:24    <DIR>          .ipynb_checkpoints\n",
      "2023/06/22  19:44            28,734 StructTest.ipynb\n",
      "               1 个文件         28,734 字节\n",
      "               3 个目录 498,683,969,536 可用字节\n"
     ]
    }
   ],
   "source": [
    "!dir"
   ],
   "metadata": {
    "collapsed": false,
    "ExecuteTime": {
     "start_time": "2023-06-22T19:44:51.910416Z",
     "end_time": "2023-06-22T19:44:51.965614Z"
    }
   }
  },
  {
   "cell_type": "markdown",
   "source": [
    "## 数据合并"
   ],
   "metadata": {
    "collapsed": false
   }
  },
  {
   "cell_type": "code",
   "execution_count": 25,
   "outputs": [
    {
     "name": "stdout",
     "output_type": "stream",
     "text": [
      "[[ 6  7  1  2 17 19 13 15]\n",
      " [ 4  1  4  1 17 13 19 15]\n",
      " [ 7  7  3  5 19 11 14 12]]\n",
      "0    0\n",
      "1    4\n",
      "2    0\n",
      "3    3\n",
      "4    4\n",
      "5    6\n",
      "6    3\n",
      "7    1\n",
      "8    7\n",
      "dtype: int32\n",
      "    0   1   2   3\n",
      "0   2   5   5   8\n",
      "1   7  14   4   7\n",
      "2   9   0  13  17\n",
      "0  12   8  13   4\n",
      "1  11  13  10   5\n",
      "2   7   7  11   3\n",
      "--------------------\n",
      "   0   1   2   3   4\n",
      "0  2   5   5   8   0\n",
      "1  7  14   4   7  17\n",
      "2  9   0  13  17   6\n",
      "   0   1   2\n",
      "0  2   7   9\n",
      "1  5  14   0\n",
      "2  5   4  13\n",
      "3  8   7  17\n",
      "4  0  17   6\n"
     ]
    }
   ],
   "source": [
    "import  numpy as np\n",
    "import pandas as pd\n",
    "# np的合并\n",
    "arr1 = np.random.randint(0,10,(3,4))\n",
    "arr2 = np.random.randint(9,20,(3,4))\n",
    "print(np.concatenate([arr1,arr2],axis=1))\n",
    "# pandas  series合并\n",
    "ser1 = pd.Series(np.random.randint(0,10,5),index=range(0,5))\n",
    "ser2 = pd.Series(np.random.randint(0,10,4),index=range(5,9))\n",
    "print(pd.concat([ser1, ser2]))\n",
    "# df合并\n",
    "df1 = pd.DataFrame(np.random.randint(0,19,(3,5)),index=range(3),columns=range(5))\n",
    "df2 = pd.DataFrame(np.random.randint(0,19,(3,4)),index=range(3),columns=range(4))\n",
    "# 合并不存在的列，会自动填充nan;\n",
    "# 也可以选择连接方式，内连接inner只会合并两者的形状交集\n",
    "print(pd.concat([df1, df2],axis=0,join='inner'))\n",
    "print('-'*20)\n",
    "print(df1)\n",
    "# 数据重构，降升维\n",
    "print(df1.stack().unstack(0))"
   ],
   "metadata": {
    "collapsed": false,
    "ExecuteTime": {
     "start_time": "2023-06-24T14:34:25.876451Z",
     "end_time": "2023-06-24T14:34:25.909380Z"
    }
   }
  },
  {
   "cell_type": "code",
   "execution_count": 56,
   "outputs": [
    {
     "name": "stdout",
     "output_type": "stream",
     "text": [
      "a    False\n",
      "b     True\n",
      "c     True\n",
      "d    False\n",
      "e    False\n",
      "f    False\n",
      "g    False\n",
      "h    False\n",
      "i    False\n",
      "j    False\n",
      "dtype: bool\n",
      "a    False\n",
      "b     True\n",
      "c     True\n",
      "d    False\n",
      "e    False\n",
      "f    False\n",
      "g    False\n",
      "h    False\n",
      "i     True\n",
      "j    False\n",
      "dtype: bool\n",
      "   d1  d2\n",
      "a   1   1\n",
      "d   4   4\n",
      "e   5   5\n",
      "f   6   6\n",
      "g   7   7\n",
      "h   8   8\n",
      "i   9   8\n",
      "j  10  11\n"
     ]
    }
   ],
   "source": [
    "# 数据处理\n",
    "\"\"\"\n",
    "处理重复数据duplicated\n",
    "\"\"\"\n",
    "df1 = pd.DataFrame({'d1':[1,1,1,4,5,6,7,8,9,10],\n",
    "              'd2':[1,1,1,4,5,6,7,8,8,11]},index=list('abcdefghij'))\n",
    "# 去除的是重复行，即样本数据相同则保留第一个其他全部丢弃\n",
    "print(df1.duplicated())  # 确认重复行，返回时bool\n",
    "print(df1.duplicated('d2'))\n",
    "print(df1.drop_duplicates()) # 返回去重后的结果"
   ],
   "metadata": {
    "collapsed": false,
    "ExecuteTime": {
     "start_time": "2023-06-24T14:45:00.762567Z",
     "end_time": "2023-06-24T14:45:00.783195Z"
    }
   }
  },
  {
   "cell_type": "code",
   "execution_count": 113,
   "outputs": [
    {
     "name": "stdout",
     "output_type": "stream",
     "text": [
      "0    1\n",
      "1    0\n",
      "2    6\n",
      "3    7\n",
      "dtype: int32\n",
      "0    3\n",
      "1    2\n",
      "2    8\n",
      "3    9\n",
      "dtype: int64\n",
      "0     1\n",
      "1    10\n",
      "2     6\n",
      "3     7\n",
      "dtype: int32\n"
     ]
    }
   ],
   "source": [
    "s1 = pd.Series(np.random.randint(0,10,4))\n",
    "print(s1)\n",
    "print(s1.map(lambda s: s + 2))\n",
    "print(s1.replace([0, 3], [10, -100]))"
   ],
   "metadata": {
    "collapsed": false,
    "ExecuteTime": {
     "start_time": "2023-06-24T14:51:10.595576Z",
     "end_time": "2023-06-24T14:51:10.613025Z"
    }
   }
  }
 ],
 "metadata": {
  "kernelspec": {
   "display_name": "Python 3 (ipykernel)",
   "language": "python",
   "name": "python3"
  },
  "language_info": {
   "codemirror_mode": {
    "name": "ipython",
    "version": 3
   },
   "file_extension": ".py",
   "mimetype": "text/x-python",
   "name": "python",
   "nbconvert_exporter": "python",
   "pygments_lexer": "ipython3",
   "version": "3.10.10"
  }
 },
 "nbformat": 4,
 "nbformat_minor": 1
}
