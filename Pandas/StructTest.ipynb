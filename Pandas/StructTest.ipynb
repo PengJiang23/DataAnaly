{
 "cells": [
  {
   "cell_type": "code",
   "execution_count": null,
   "metadata": {},
   "outputs": [],
   "source": []
  },
  {
   "cell_type": "code",
   "execution_count": 30,
   "metadata": {
    "ExecuteTime": {
     "start_time": "2023-06-18T11:08:49.531273Z",
     "end_time": "2023-06-18T11:08:49.537432Z"
    },
    "collapsed": true
   },
   "outputs": [
    {
     "name": "stdout",
     "output_type": "stream",
     "text": [
      "a    10\n",
      "b    11\n",
      "c    12\n",
      "d    13\n",
      "e    14\n",
      "f    15\n",
      "h    16\n",
      "j    17\n",
      "k    18\n",
      "dtype: int64\n",
      "<class 'pandas.core.indexes.base.Index'>\n",
      "Index(['a', 'b', 'c', 'd', 'e', 'f', 'h', 'j', 'k', 'l'], dtype='object')\n",
      "<class 'numpy.ndarray'>\n",
      "[10 11 12 13 14 15 16 17 18 19]\n",
      "18\n",
      "2001    123.0\n",
      "1382     23.2\n",
      "2077     21.1\n",
      "dtype: float64\n",
      "year\n",
      "2001    123.0\n",
      "1382     23.2\n",
      "2077     21.1\n",
      "Name: 年份表, dtype: float64\n"
     ]
    }
   ],
   "source": [
    "import pandas as pd\n",
    "\n",
    "# pandas 数据结构 Series\n",
    "ser_obj = pd.Series(range(10, 20), index=list('abcdefhjkl'))\n",
    "# 头部\n",
    "print(ser_obj.head(9))\n",
    "print(type(ser_obj.index))\n",
    "print(ser_obj.index)\n",
    "print(type(ser_obj.values))\n",
    "print(ser_obj.values)\n",
    "print(ser_obj[8])\n",
    "\n",
    "# dict 构建series\n",
    "year_dict = {2001: 123, 1382: 23.2, 2077: 21.1}\n",
    "ser_obj1 = pd.Series(year_dict)\n",
    "print(ser_obj1)\n",
    "\n",
    "# 为index、series取别名\n",
    "ser_obj1.name = '年份表'\n",
    "ser_obj1.index.name = 'year'\n",
    "print(ser_obj1)"
   ]
  },
  {
   "cell_type": "code",
   "execution_count": 49,
   "outputs": [
    {
     "name": "stdout",
     "output_type": "stream",
     "text": [
      "   0  1   2   3\n",
      "0  0  1   2   3\n",
      "1  4  5   6   7\n",
      "2  8  9  10  11\n",
      "[[ 0.15966276 -1.51436794  0.74079167  0.03841277]\n",
      " [-1.63728101  1.37417529  0.79962169  2.28971619]\n",
      " [-0.57224341  0.58040952  0.63424842 -0.69408966]]\n",
      "--------------------\n",
      "   A          B    C  D       E        F\n",
      "0  1 2019-09-26  1.0  3  python  wangdao\n",
      "1  1 2019-09-27  1.0  3    java  wangdao\n",
      "2  1 2019-09-28  1.0  3     c++  wangdao\n",
      "3  1 2019-09-29  1.0  3       c  wangdao\n",
      "0    1\n",
      "1    1\n",
      "2    1\n",
      "3    1\n",
      "Name: A, dtype: int64\n",
      "   A          B    C       E        F    h\n",
      "0  1 2019-09-26  1.0  python  wangdao  4.0\n",
      "1  1 2019-09-27  1.0    java  wangdao  4.0\n",
      "2  1 2019-09-28  1.0     c++  wangdao  4.0\n",
      "3  1 2019-09-29  1.0       c  wangdao  4.0\n",
      "           B        F\n",
      "0 2019-09-26  wangdao\n",
      "1 2019-09-27  wangdao\n",
      "2 2019-09-28  wangdao\n",
      "--------------------\n",
      "           B        F\n",
      "0 2019-09-26  wangdao\n",
      "1 2019-09-27  wangdao\n",
      "2 2019-09-28  wangdao\n"
     ]
    },
    {
     "data": {
      "text/plain": "A             int64\nB    datetime64[ns]\nC           float32\nE            object\nF            object\nh           float32\ndtype: object"
     },
     "execution_count": 49,
     "metadata": {},
     "output_type": "execute_result"
    }
   ],
   "source": [
    "import numpy as np\n",
    "import pandas as pd\n",
    "\n",
    "# DataFrame的构建\n",
    "a = pd.DataFrame(np.arange(12).reshape(3, 4))\n",
    "print(a)\n",
    "b = np.random.randn(3, 4)\n",
    "print(b)\n",
    "print('-' * 20)\n",
    "# dict 构建\n",
    "dict_data = {'A': 1,\n",
    "             'B': pd.date_range('20190926', periods=4),\n",
    "             'C': pd.Series(1, index=list(range(4)), dtype='float32'),\n",
    "             'D': np.array([3] * 4, dtype='int32'),\n",
    "             'E': ['python', 'java', 'c++', 'c'],\n",
    "             'F': 'wangdao'}\n",
    "c = pd.DataFrame(dict_data)\n",
    "print(c)\n",
    "# 列索引操作\n",
    "print(c['A'])\n",
    "c['h'] = c['C'] * 4\n",
    "del (c['D'])\n",
    "print(c)\n",
    "# 索引名切片\n",
    "print(c.loc['0':'2', ['B', 'F']])\n",
    "print('-' * 20)\n",
    "# 基于索引编号进行切片\n",
    "print(c.iloc[0:3, [1, 4]])\n",
    "c.dtypes"
   ],
   "metadata": {
    "collapsed": false,
    "ExecuteTime": {
     "start_time": "2023-06-18T20:45:24.543732Z",
     "end_time": "2023-06-18T20:45:24.603456Z"
    }
   }
  },
  {
   "cell_type": "code",
   "execution_count": 1,
   "outputs": [
    {
     "name": "stdout",
     "output_type": "stream",
     "text": [
      "0    15.0\n",
      "1    17.0\n",
      "2    19.0\n",
      "3    21.0\n",
      "4    23.0\n",
      "5     NaN\n",
      "6     NaN\n",
      "7     NaN\n",
      "8     NaN\n",
      "9     NaN\n",
      "dtype: float64\n",
      "     a    b   c\n",
      "0  2.0  2.0 NaN\n",
      "1  2.0  2.0 NaN\n",
      "2  NaN  NaN NaN\n",
      "0    15.0\n",
      "1    17.0\n",
      "2    19.0\n",
      "3    21.0\n",
      "4    23.0\n",
      "5    15.0\n",
      "6    16.0\n",
      "7    17.0\n",
      "8    18.0\n",
      "9    19.0\n",
      "dtype: float64\n",
      "     a    b    c\n",
      "0  0.0  0.0 -3.0\n",
      "1  0.0  0.0 -3.0\n",
      "2 -3.0 -3.0 -3.0\n",
      "--------------------\n",
      "          0         1         2         3         4         5\n",
      "0  0.932974  0.109161  1.865406  1.457567  0.812741  0.545392\n",
      "1  0.317812  1.278414  1.776520  0.155828  4.111979  2.665433\n",
      "2  0.993221  1.112622  1.181274  1.936307  0.232907  0.221762\n",
      "3  1.556675  0.407524  0.731760  1.429567  0.895002  3.713514\n",
      "0   -0.109161\n",
      "1    0.317812\n",
      "2    0.232907\n",
      "3    0.895002\n",
      "dtype: float64\n",
      "       0      1      2      3      4      5\n",
      "0  -0.93  -0.11  -1.87  -1.46  -0.81  -0.55\n",
      "1   0.32  -1.28  -1.78  -0.16  -4.11  -2.67\n",
      "2  -0.99  -1.11  -1.18  -1.94   0.23  -0.22\n",
      "3  -1.56  -0.41  -0.73  -1.43   0.90  -3.71\n"
     ]
    }
   ],
   "source": [
    "\n",
    "import numpy as np\n",
    "import pandas as pd\n",
    "\n",
    "# 对齐操作\n",
    "s1 = pd.Series(range(10, 20), index=range(10))\n",
    "s2 = pd.Series(range(5, 10), index=range(5))\n",
    "print(s1 + s2)\n",
    "\n",
    "d1 = pd.DataFrame(np.ones((2, 2)), columns=['a', 'b'])\n",
    "d2 = pd.DataFrame(np.ones((3, 3)), columns=['a', 'b', 'c'])\n",
    "print(d1 + d2)\n",
    "d3 = pd.DataFrame(np.random.randn(4, 6) - 1)\n",
    "# 填充数据 add  sub div mul 可选字段fill_value填充\n",
    "print(s1.add(s2, fill_value=0))\n",
    "print(d1.sub(d2, fill_value=-2.))\n",
    "print('-' * 20)\n",
    "print(np.abs(d3))\n",
    "# 作用到指定轴方向数据\n",
    "print(d3.apply(lambda x: x.max(), axis=1))\n",
    "# 作用到每个数据\n",
    "print(d3.applymap(lambda x: '%.2f' % x))"
   ],
   "metadata": {
    "collapsed": false,
    "ExecuteTime": {
     "start_time": "2023-06-20T10:54:33.486659Z",
     "end_time": "2023-06-20T10:54:33.743873Z"
    }
   }
  },
  {
   "cell_type": "code",
   "execution_count": 18,
   "outputs": [
    {
     "name": "stdout",
     "output_type": "stream",
     "text": [
      "2      21\n",
      "8      13\n",
      "17     10\n",
      "28     17\n",
      "29     20\n",
      "30     15\n",
      "94     16\n",
      "120    14\n",
      "140    19\n",
      "145    18\n",
      "153    12\n",
      "162    11\n",
      "162    24\n",
      "165    22\n",
      "168    23\n",
      "dtype: int64\n",
      "          4         6         2         1         9         0\n",
      "a  0.110397 -1.497829 -0.466893 -1.883658 -0.446508 -2.136137\n",
      "b -1.518125 -1.164549 -1.012391 -1.605042 -0.855233 -3.860698\n",
      "e -0.258898 -0.943417 -2.335238  0.536673 -1.470872 -1.437847\n",
      "c -1.872298 -1.102281 -2.950146 -1.647242 -0.975542 -1.835190\n",
      "          9         6         4         2         1         0\n",
      "a -0.446508 -1.497829  0.110397 -0.466893 -1.883658 -2.136137\n",
      "b -0.855233 -1.164549 -1.518125 -1.012391 -1.605042 -3.860698\n",
      "e -1.470872 -0.943417 -0.258898 -2.335238  0.536673 -1.437847\n",
      "c -0.975542 -1.102281 -1.872298 -2.950146 -1.647242 -1.835190\n",
      "          4         6         2         1         9         0\n",
      "b -1.518125 -1.164549 -1.012391 -1.605042 -0.855233 -3.860698\n",
      "a  0.110397 -1.497829 -0.466893 -1.883658 -0.446508 -2.136137\n",
      "c -1.872298 -1.102281 -2.950146 -1.647242 -0.975542 -1.835190\n",
      "e -0.258898 -0.943417 -2.335238  0.536673 -1.470872 -1.437847\n",
      "     a    b   c\n",
      "0  2.0  2.0 NaN\n",
      "1  2.0  2.0 NaN\n",
      "2  NaN  NaN NaN\n",
      "       a      b     c\n",
      "0  False  False  True\n",
      "1  False  False  True\n",
      "2   True   True  True\n",
      "Empty DataFrame\n",
      "Columns: [a, b, c]\n",
      "Index: []\n",
      "     a    b    c\n",
      "0  2.0  2.0  5.4\n",
      "1  2.0  2.0  5.4\n",
      "2  5.4  5.4  5.4\n"
     ]
    }
   ],
   "source": [
    "s1 = pd.Series(range(10, 25), index=np.random.randint(200, size=15))\n",
    "# series 索引排序\n",
    "print(s1.sort_index())\n",
    "\n",
    "d3 = pd.DataFrame(np.random.randn(4, 6) - 1,\n",
    "                  index=['a', 'b', 'e', 'c'],\n",
    "                  columns=['4', '6', '2', '1', '9', '0'])\n",
    "print(d3)\n",
    "# ascending 降序/升序排序\n",
    "print(d3.sort_index(axis=1, ascending=False))\n",
    "# 值排序，只能指定列名columns\n",
    "print(d3.sort_values(by='0'))\n",
    "\n",
    "d4 = d1 + d2\n",
    "print(d4)\n",
    "# 控制判断\n",
    "print(d4.isnull())\n",
    "# 缺失数据，丢弃对应行列\n",
    "print(d4.dropna())\n",
    "# 填充缺失数据\n",
    "print(d4.fillna(5.4))"
   ],
   "metadata": {
    "collapsed": false,
    "ExecuteTime": {
     "start_time": "2023-06-20T13:03:09.026682Z",
     "end_time": "2023-06-20T13:03:09.042841Z"
    }
   }
  },
  {
   "cell_type": "code",
   "execution_count": 21,
   "outputs": [
    {
     "name": "stdout",
     "output_type": "stream",
     "text": [
      "a  0     1.023341\n",
      "   1     2.668062\n",
      "   2     0.187836\n",
      "   3     1.836211\n",
      "b  4     1.497297\n",
      "   5    -0.428820\n",
      "   6     0.395028\n",
      "   7    -0.202745\n",
      "c  8     1.384748\n",
      "   9    -0.972670\n",
      "   10   -1.095484\n",
      "   11   -0.206702\n",
      "dtype: float64\n",
      "0    1.023341\n",
      "1    2.668062\n",
      "2    0.187836\n",
      "3    1.836211\n",
      "dtype: float64\n",
      "b    1.497297\n",
      "dtype: float64\n",
      "1.38474827064492\n",
      "           a         b         c\n",
      "0   1.023341       NaN       NaN\n",
      "1   2.668062       NaN       NaN\n",
      "2   0.187836       NaN       NaN\n",
      "3   1.836211       NaN       NaN\n",
      "4        NaN  1.497297       NaN\n",
      "5        NaN -0.428820       NaN\n",
      "6        NaN  0.395028       NaN\n",
      "7        NaN -0.202745       NaN\n",
      "8        NaN       NaN  1.384748\n",
      "9        NaN       NaN -0.972670\n",
      "10       NaN       NaN -1.095484\n",
      "11       NaN       NaN -0.206702\n",
      "0   a    1.023341\n",
      "1   a    2.668062\n",
      "2   a    0.187836\n",
      "3   a    1.836211\n",
      "4   b    1.497297\n",
      "5   b   -0.428820\n",
      "6   b    0.395028\n",
      "7   b   -0.202745\n",
      "8   c    1.384748\n",
      "9   c   -0.972670\n",
      "10  c   -1.095484\n",
      "11  c   -0.206702\n",
      "dtype: float64\n"
     ]
    }
   ],
   "source": [
    "import pandas as pd\n",
    "import numpy as np\n",
    "\n",
    "s1 = pd.Series(np.random.randn(12), index=[['a', 'a', 'a', 'a', 'b', 'b', 'b', 'b', 'c', 'c', 'c', 'c'],\n",
    "                                           [0, 1, 2, 3, 4, 5, 6, 7, 8, 9, 10, 11]])\n",
    "# 层级索引\n",
    "# print(s1.index)\n",
    "# print(type(s1.index))\n",
    "print(s1)\n",
    "# 获取数据\n",
    "# 外层数据获取\n",
    "print(s1['a'])\n",
    "# 内层选取\n",
    "print(s1[:, 4])\n",
    "#\n",
    "print(s1['c',8])\n",
    "# 内外层索引交换\n",
    "    # print(s1.swaplevel())\n",
    "# 索引“降维”，二级索引->dataframe类型 参数为层级所以层数，可以指定层级为columns\n",
    "print(s1.unstack(0))"
   ],
   "metadata": {
    "collapsed": false,
    "ExecuteTime": {
     "start_time": "2023-06-20T14:52:50.696604Z",
     "end_time": "2023-06-20T14:52:50.717735Z"
    }
   }
  },
  {
   "cell_type": "code",
   "execution_count": 1,
   "outputs": [
    {
     "name": "stdout",
     "output_type": "stream",
     "text": [
      "          0         1         2         3         4\n",
      "0 -0.029929  0.260997 -0.108921  0.510665  0.366114\n",
      "1  1.765634  0.037075  1.319921 -1.407913  0.183348\n",
      "2 -0.524506 -1.515550  0.918815 -0.954792 -1.049429\n",
      "--------------------\n",
      "0    1.765634\n",
      "1    0.260997\n",
      "2    1.319921\n",
      "3    0.510665\n",
      "4    0.366114\n",
      "dtype: float64\n",
      "              0         1         2         3         4\n",
      "count  3.000000  3.000000  3.000000  3.000000  3.000000\n",
      "mean   0.403733 -0.405826  0.709938 -0.617347 -0.166656\n",
      "std    1.205086  0.967549  0.736967  1.002815  0.769947\n",
      "min   -0.524506 -1.515550 -0.108921 -1.407913 -1.049429\n",
      "25%   -0.277218 -0.739237  0.404947 -1.181353 -0.433041\n",
      "50%   -0.029929  0.037075  0.918815 -0.954792  0.183348\n",
      "75%    0.867852  0.149036  1.119368 -0.222064  0.274731\n",
      "max    1.765634  0.260997  1.319921  0.510665  0.366114\n"
     ]
    }
   ],
   "source": [
    "import pandas as pd\n",
    "import numpy as np\n",
    "s1 = pd.DataFrame(np.random.randn(3,5),index=range(3),columns=range(5))\n",
    "print(s1)\n",
    "print('-'*20)\n",
    "# Pandas内置计算函数,skipna跳过缺失值  内置sum mean max min std ...\n",
    "print(s1.max(axis=0,skipna=False))\n",
    "# 数据统一进行多个计算（默认的）\n",
    "print(s1.describe())"
   ],
   "metadata": {
    "collapsed": false,
    "ExecuteTime": {
     "start_time": "2023-06-20T16:44:31.127420Z",
     "end_time": "2023-06-20T16:44:31.372424Z"
    }
   }
  },
  {
   "cell_type": "code",
   "execution_count": 2,
   "outputs": [],
   "source": [
    "# pandas 分组、聚合\n"
   ],
   "metadata": {
    "collapsed": false,
    "ExecuteTime": {
     "start_time": "2023-06-20T16:45:25.297620Z",
     "end_time": "2023-06-20T16:45:25.302300Z"
    }
   }
  }
 ],
 "metadata": {
  "kernelspec": {
   "display_name": "Python 3 (ipykernel)",
   "language": "python",
   "name": "python3"
  },
  "language_info": {
   "codemirror_mode": {
    "name": "ipython",
    "version": 3
   },
   "file_extension": ".py",
   "mimetype": "text/x-python",
   "name": "python",
   "nbconvert_exporter": "python",
   "pygments_lexer": "ipython3",
   "version": "3.10.10"
  }
 },
 "nbformat": 4,
 "nbformat_minor": 1
}
