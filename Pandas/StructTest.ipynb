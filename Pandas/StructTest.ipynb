{
 "cells": [
  {
   "cell_type": "code",
   "execution_count": null,
   "metadata": {},
   "outputs": [],
   "source": []
  },
  {
   "cell_type": "code",
   "execution_count": 30,
   "metadata": {
    "ExecuteTime": {
     "start_time": "2023-06-18T11:08:49.531273Z",
     "end_time": "2023-06-18T11:08:49.537432Z"
    },
    "collapsed": true
   },
   "outputs": [
    {
     "name": "stdout",
     "output_type": "stream",
     "text": [
      "a    10\n",
      "b    11\n",
      "c    12\n",
      "d    13\n",
      "e    14\n",
      "f    15\n",
      "h    16\n",
      "j    17\n",
      "k    18\n",
      "dtype: int64\n",
      "<class 'pandas.core.indexes.base.Index'>\n",
      "Index(['a', 'b', 'c', 'd', 'e', 'f', 'h', 'j', 'k', 'l'], dtype='object')\n",
      "<class 'numpy.ndarray'>\n",
      "[10 11 12 13 14 15 16 17 18 19]\n",
      "18\n",
      "2001    123.0\n",
      "1382     23.2\n",
      "2077     21.1\n",
      "dtype: float64\n",
      "year\n",
      "2001    123.0\n",
      "1382     23.2\n",
      "2077     21.1\n",
      "Name: 年份表, dtype: float64\n"
     ]
    }
   ],
   "source": [
    "import pandas as pd\n",
    "\n",
    "# pandas 数据结构 Series\n",
    "ser_obj = pd.Series(range(10, 20),index=list('abcdefhjkl'))\n",
    "# 头部\n",
    "print(ser_obj.head(9))\n",
    "print(type(ser_obj.index))\n",
    "print(ser_obj.index)\n",
    "print(type(ser_obj.values))\n",
    "print(ser_obj.values)\n",
    "print(ser_obj[8])\n",
    "\n",
    "# dict 构建series\n",
    "year_dict = {2001: 123, 1382: 23.2, 2077: 21.1}\n",
    "ser_obj1 = pd.Series(year_dict)\n",
    "print(ser_obj1)\n",
    "\n",
    "# 为index、series取别名\n",
    "ser_obj1.name = '年份表'\n",
    "ser_obj1.index.name = 'year'\n",
    "print(ser_obj1)"
   ]
  },
  {
   "cell_type": "code",
   "execution_count": 49,
   "outputs": [
    {
     "name": "stdout",
     "output_type": "stream",
     "text": [
      "   0  1   2   3\n",
      "0  0  1   2   3\n",
      "1  4  5   6   7\n",
      "2  8  9  10  11\n",
      "[[ 0.15966276 -1.51436794  0.74079167  0.03841277]\n",
      " [-1.63728101  1.37417529  0.79962169  2.28971619]\n",
      " [-0.57224341  0.58040952  0.63424842 -0.69408966]]\n",
      "--------------------\n",
      "   A          B    C  D       E        F\n",
      "0  1 2019-09-26  1.0  3  python  wangdao\n",
      "1  1 2019-09-27  1.0  3    java  wangdao\n",
      "2  1 2019-09-28  1.0  3     c++  wangdao\n",
      "3  1 2019-09-29  1.0  3       c  wangdao\n",
      "0    1\n",
      "1    1\n",
      "2    1\n",
      "3    1\n",
      "Name: A, dtype: int64\n",
      "   A          B    C       E        F    h\n",
      "0  1 2019-09-26  1.0  python  wangdao  4.0\n",
      "1  1 2019-09-27  1.0    java  wangdao  4.0\n",
      "2  1 2019-09-28  1.0     c++  wangdao  4.0\n",
      "3  1 2019-09-29  1.0       c  wangdao  4.0\n",
      "           B        F\n",
      "0 2019-09-26  wangdao\n",
      "1 2019-09-27  wangdao\n",
      "2 2019-09-28  wangdao\n",
      "--------------------\n",
      "           B        F\n",
      "0 2019-09-26  wangdao\n",
      "1 2019-09-27  wangdao\n",
      "2 2019-09-28  wangdao\n"
     ]
    },
    {
     "data": {
      "text/plain": "A             int64\nB    datetime64[ns]\nC           float32\nE            object\nF            object\nh           float32\ndtype: object"
     },
     "execution_count": 49,
     "metadata": {},
     "output_type": "execute_result"
    }
   ],
   "source": [
    "import numpy as np\n",
    "import pandas as pd\n",
    "\n",
    "# DataFrame的构建\n",
    "a = pd.DataFrame(np.arange(12).reshape(3,4))\n",
    "print(a)\n",
    "b = np.random.randn(3,4)\n",
    "print(b)\n",
    "print('-'*20)\n",
    "# dict 构建\n",
    "dict_data = {'A':1,\n",
    "             'B':pd.date_range('20190926',periods=4),\n",
    "             'C':pd.Series(1,index=list(range(4)),dtype='float32'),\n",
    "             'D':np.array([3]*4,dtype='int32'),\n",
    "             'E':['python','java','c++','c'],\n",
    "             'F':'wangdao'}\n",
    "c = pd.DataFrame(dict_data)\n",
    "print(c)\n",
    "# 列索引操作\n",
    "print(c['A'])\n",
    "c['h']=c['C']*4\n",
    "del(c['D'])\n",
    "print(c)\n",
    "# 索引名切片\n",
    "print(c.loc['0':'2',['B','F']])\n",
    "print('-'*20)\n",
    "# 基于索引编号进行切片\n",
    "print(c.iloc[0:3,[1,4]])\n",
    "c.dtypes"
   ],
   "metadata": {
    "collapsed": false,
    "ExecuteTime": {
     "start_time": "2023-06-18T20:45:24.543732Z",
     "end_time": "2023-06-18T20:45:24.603456Z"
    }
   }
  },
  {
   "cell_type": "code",
   "execution_count": null,
   "outputs": [],
   "source": [
    "import numpy as np\n",
    "import pandas as pd\n",
    "# 对齐操作"
   ],
   "metadata": {
    "collapsed": false
   }
  }
 ],
 "metadata": {
  "kernelspec": {
   "display_name": "Python 3 (ipykernel)",
   "language": "python",
   "name": "python3"
  },
  "language_info": {
   "codemirror_mode": {
    "name": "ipython",
    "version": 3
   },
   "file_extension": ".py",
   "mimetype": "text/x-python",
   "name": "python",
   "nbconvert_exporter": "python",
   "pygments_lexer": "ipython3",
   "version": "3.10.10"
  }
 },
 "nbformat": 4,
 "nbformat_minor": 1
}
