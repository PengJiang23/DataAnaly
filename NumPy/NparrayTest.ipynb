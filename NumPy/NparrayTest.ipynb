{
 "cells": [
  {
   "cell_type": "code",
   "execution_count": 36,
   "metadata": {
    "collapsed": true,
    "ExecuteTime": {
     "start_time": "2023-06-15T19:23:02.753301Z",
     "end_time": "2023-06-15T19:23:02.762370Z"
    }
   },
   "outputs": [
    {
     "name": "stdout",
     "output_type": "stream",
     "text": [
      "[[[[ 0  1]\n",
      "   [ 2  3]]\n",
      "\n",
      "  [[ 4  5]\n",
      "   [ 6  7]]\n",
      "\n",
      "  [[ 8  9]\n",
      "   [10 11]]\n",
      "\n",
      "  [[12 13]\n",
      "   [14 15]]]\n",
      "\n",
      "\n",
      " [[[16 17]\n",
      "   [18 19]]\n",
      "\n",
      "  [[20 21]\n",
      "   [22 23]]\n",
      "\n",
      "  [[24 25]\n",
      "   [26 27]]\n",
      "\n",
      "  [[28 29]\n",
      "   [30 31]]]\n",
      "\n",
      "\n",
      " [[[32 33]\n",
      "   [34 35]]\n",
      "\n",
      "  [[36 37]\n",
      "   [38 39]]\n",
      "\n",
      "  [[40 41]\n",
      "   [42 43]]\n",
      "\n",
      "  [[44 45]\n",
      "   [46 47]]]\n",
      "\n",
      "\n",
      " [[[48 49]\n",
      "   [50 51]]\n",
      "\n",
      "  [[52 53]\n",
      "   [54 55]]\n",
      "\n",
      "  [[56 57]\n",
      "   [58 59]]\n",
      "\n",
      "  [[60 61]\n",
      "   [62 63]]]]\n",
      "********************\n",
      "[[[ 96 100]\n",
      "  [104 108]]\n",
      "\n",
      " [[112 116]\n",
      "  [120 124]]\n",
      "\n",
      " [[128 132]\n",
      "  [136 140]]\n",
      "\n",
      " [[144 148]\n",
      "  [152 156]]]\n",
      "********************\n",
      "[[[[  0   2]\n",
      "   [  4   6]]\n",
      "\n",
      "  [[  8  10]\n",
      "   [ 12  14]]\n",
      "\n",
      "  [[ 16  18]\n",
      "   [ 20  22]]\n",
      "\n",
      "  [[ 24  26]\n",
      "   [ 28  30]]]\n",
      "\n",
      "\n",
      " [[[ 32  34]\n",
      "   [ 36  38]]\n",
      "\n",
      "  [[ 40  42]\n",
      "   [ 44  46]]\n",
      "\n",
      "  [[ 48  50]\n",
      "   [ 52  54]]\n",
      "\n",
      "  [[ 56  58]\n",
      "   [ 60  62]]]\n",
      "\n",
      "\n",
      " [[[ 64  66]\n",
      "   [ 68  70]]\n",
      "\n",
      "  [[ 72  74]\n",
      "   [ 76  78]]\n",
      "\n",
      "  [[ 80  82]\n",
      "   [ 84  86]]\n",
      "\n",
      "  [[ 88  90]\n",
      "   [ 92  94]]]\n",
      "\n",
      "\n",
      " [[[ 96  98]\n",
      "   [100 102]]\n",
      "\n",
      "  [[104 106]\n",
      "   [108 110]]\n",
      "\n",
      "  [[112 114]\n",
      "   [116 118]]\n",
      "\n",
      "  [[120 122]\n",
      "   [124 126]]]]\n",
      "(4, 4, 2)\n",
      "分隔符\n",
      "[[[ 0  1  2  3]\n",
      "  [ 4  5  6  7]\n",
      "  [ 8  9 10 11]]\n",
      "\n",
      " [[12 13 14 15]\n",
      "  [16 17 18 19]\n",
      "  [20 21 22 23]]]\n",
      "[[[0 1 2 3]]\n",
      "\n",
      " [[4 5 6 7]]]\n",
      "[[[ 0  2  4  6]\n",
      "  [ 4  6  8 10]\n",
      "  [ 8 10 12 14]]\n",
      "\n",
      " [[16 18 20 22]\n",
      "  [20 22 24 26]\n",
      "  [24 26 28 30]]]\n",
      "[[[ 0  1  2]\n",
      "  [ 3  4  5]]\n",
      "\n",
      " [[ 6  7  8]\n",
      "  [ 9 10 11]]\n",
      "\n",
      " [[12 13 14]\n",
      "  [15 16 17]]]\n"
     ]
    }
   ],
   "source": [
    "import numpy as np\n",
    "\n",
    "b=np.arange(64).reshape((4, 4, 2,2))\n",
    "print(b)\n",
    "print('*'*20)\n",
    "# 轴0元素相加，所有轴1进行叠加\n",
    "print(np.sum(b, axis=0))\n",
    "print('*'*20)\n",
    "print(b*2)\n",
    "a = np.sum(b,axis=3)\n",
    "print(a.shape)\n",
    "# 单行/单列的同纬度数据可以进行相加\n",
    "print('分隔符')\n",
    "c = np.arange(24).reshape(2,3,4)\n",
    "d = np.arange(8).reshape(2,1,4)\n",
    "print(c)\n",
    "print(d)\n",
    "print(c+d)\n",
    "\n",
    "e = np.arange(18).reshape(3,2,3)\n",
    "print(e)"
   ]
  },
  {
   "cell_type": "code",
   "execution_count": 37,
   "outputs": [
    {
     "name": "stdout",
     "output_type": "stream",
     "text": [
      "[1 2 4]\n",
      "[0 1 2 3 4 5 6 7 8 9]\n",
      "[0 1 2 3]\n",
      "3\n",
      "(2, 3, 4)\n",
      "24\n",
      "[[ 0  1  2  3  4  5]\n",
      " [ 6  7  8  9 10 11]\n",
      " [12 13 14 15 16 17]\n",
      " [18 19 20 21 22 23]]\n",
      "[0.14 0.09 0.07 0.88 0.84 0.89 0.27 0.54 0.24 0.98]\n"
     ]
    }
   ],
   "source": [
    "import numpy as np\n",
    "import random\n",
    "# nparray 的生成\n",
    "print(np.array([1, 2, 4]))\n",
    "print(np.array(range(10)))\n",
    "print(np.arange(0,4,1))\n",
    "\n",
    "# 基本属性\n",
    "a = np.arange(24).reshape(2,3,4)\n",
    "print(a.ndim)\n",
    "print(a.shape)\n",
    "print(a.size)\n",
    "# 变化形状\n",
    "print(a.reshape((4,6)))\n",
    "\n",
    "arr = np.array([random.random() for i in range(10)])\n",
    "print(np.round(arr,2))"
   ],
   "metadata": {
    "collapsed": false,
    "ExecuteTime": {
     "start_time": "2023-06-15T19:25:04.960935Z",
     "end_time": "2023-06-15T19:25:05.008366Z"
    }
   }
  },
  {
   "cell_type": "code",
   "execution_count": 128,
   "outputs": [
    {
     "name": "stdout",
     "output_type": "stream",
     "text": [
      "[[[ 0  1]\n",
      "  [ 2  3]\n",
      "  [ 4  5]]\n",
      "\n",
      " [[ 6  7]\n",
      "  [ 8  9]\n",
      "  [10 11]]\n",
      "\n",
      " [[12 13]\n",
      "  [14 15]\n",
      "  [16 17]]\n",
      "\n",
      " [[18 19]\n",
      "  [20 21]\n",
      "  [22 23]]]\n",
      "--------------------\n",
      "(array([ 0,  1,  2,  3,  4,  5,  6,  7,  8,  9, 10, 11, 12, 13, 14, 15, 16,\n",
      "       17, 18, 19, 20, 21, 22, 23]), array([ 0,  1,  2,  3,  4,  5,  6,  7,  8,  9, 10, 11, 12, 13, 14, 15, 16,\n",
      "       17, 18, 19, 20, 21, 22, 23], dtype=int64))\n",
      "[[[ 0  1]\n",
      "  [ 2  3]]\n",
      "\n",
      " [[ 6  7]\n",
      "  [ 8  9]]\n",
      "\n",
      " [[12 13]\n",
      "  [14 15]]\n",
      "\n",
      " [[18 19]\n",
      "  [20 21]]]\n",
      "[[[ 0  1]\n",
      "  [ 2  3]\n",
      "  [11 12]\n",
      "  [ 4  5]]\n",
      "\n",
      " [[ 6  7]\n",
      "  [ 8  9]\n",
      "  [11 12]\n",
      "  [10 11]]\n",
      "\n",
      " [[12 13]\n",
      "  [14 15]\n",
      "  [11 12]\n",
      "  [16 17]]\n",
      "\n",
      " [[18 19]\n",
      "  [20 21]\n",
      "  [11 12]\n",
      "  [22 23]]]\n"
     ]
    }
   ],
   "source": [
    "a = np.arange(24).reshape(4,3,2)\n",
    "print(a)\n",
    "print('-'*20)\n",
    "# : 取多行 ,: 取单行[可以省略]\n",
    "# 1:3,: 左闭右开\n",
    "# :, 取单列    :,1: 取连续多列\n",
    "# nparray的取值规则，行按0轴取，列按1轴取\n",
    "# a[a<20]=0\n",
    "# 限制nparray的数值范围\n",
    "# a= a.clip(10,20)\n",
    "# 去重\n",
    "print(np.unique(a, return_index = True))\n",
    "# 删除\n",
    "print(np.delete(a, 2,axis=1))\n",
    "# 新增 1轴的第2列新增元素11\n",
    "print(np.insert(a, 2, [11,12], axis=1))\n",
    "# 添加数据，存在问题\n",
    "#\n",
    "#\n",
    "#\n",
    "                # print(np.append(a[:,1:], [[[1]]],axis=1))"
   ],
   "metadata": {
    "collapsed": false,
    "ExecuteTime": {
     "start_time": "2023-06-15T20:28:23.484538Z",
     "end_time": "2023-06-15T20:28:23.501566Z"
    }
   }
  },
  {
   "cell_type": "code",
   "execution_count": 141,
   "outputs": [
    {
     "name": "stdout",
     "output_type": "stream",
     "text": [
      "[[51 60]\n",
      " [12  9]\n",
      " [63 42]]\n",
      "[63 60]\n",
      "[55.5 10.5 52.5]\n"
     ]
    },
    {
     "data": {
      "text/plain": "''"
     },
     "execution_count": 141,
     "metadata": {},
     "output_type": "execute_result"
    }
   ],
   "source": [
    "a = np.array([[51,60],[12,9],[63,42]])\n",
    "print(a)\n",
    "# 最大值\n",
    "print(np.max(a,axis=0))\n",
    "# 平均值\n",
    "print(np.mean(a, axis=1))\n",
    "\n",
    "print(np.maximum([-2, -1, 0, 1, 2], 0))\n",
    "# 数据趋势变化api\n",
    "# std   标准差\n",
    "# ptp 极值\n",
    "# var 方差\n",
    "# cov 协方差\n",
    "# average 平均值\n",
    "# median 中位数"
   ],
   "metadata": {
    "collapsed": false,
    "ExecuteTime": {
     "start_time": "2023-06-15T20:49:05.358914Z",
     "end_time": "2023-06-15T20:49:05.367499Z"
    }
   }
  },
  {
   "cell_type": "code",
   "execution_count": 153,
   "outputs": [
    {
     "name": "stdout",
     "output_type": "stream",
     "text": [
      "[[1 2]\n",
      " [3 4]\n",
      " [5 6]\n",
      " [7 8]]\n",
      "[[[1 2]\n",
      "  [5 6]]\n",
      "\n",
      " [[3 4]\n",
      "  [7 8]]]\n"
     ]
    }
   ],
   "source": [
    "a = np.array([[1,2],[3,4]])\n",
    "b = np.array([[5,6],[7,8]])\n",
    "# concatenate默认轴0拼接，也可以指定轴\n",
    "print(np.concatenate((a, b)))\n",
    "# stack 二维变三维\n",
    "print(np.stack((a, b), axis=1))"
   ],
   "metadata": {
    "collapsed": false,
    "ExecuteTime": {
     "start_time": "2023-06-15T20:54:27.417992Z",
     "end_time": "2023-06-15T20:54:27.431692Z"
    }
   }
  },
  {
   "cell_type": "code",
   "execution_count": 168,
   "outputs": [
    {
     "name": "stdout",
     "output_type": "stream",
     "text": [
      "[[[ 0  1  2]\n",
      "  [ 3  4  5]\n",
      "  [ 6  7  8]]\n",
      "\n",
      " [[ 9 10 11]\n",
      "  [12 13 14]\n",
      "  [15 16 17]]\n",
      "\n",
      " [[18 19 20]\n",
      "  [21 22 23]\n",
      "  [24 25 26]]]\n",
      "[array([[[ 0,  1,  2]],\n",
      "\n",
      "       [[ 9, 10, 11]],\n",
      "\n",
      "       [[18, 19, 20]]]), array([[[ 3,  4,  5]],\n",
      "\n",
      "       [[12, 13, 14]],\n",
      "\n",
      "       [[21, 22, 23]]]), array([[[ 6,  7,  8]],\n",
      "\n",
      "       [[15, 16, 17]],\n",
      "\n",
      "       [[24, 25, 26]]])]\n",
      "[array([[[ 0,  1,  2],\n",
      "        [ 3,  4,  5],\n",
      "        [ 6,  7,  8]],\n",
      "\n",
      "       [[ 9, 10, 11],\n",
      "        [12, 13, 14],\n",
      "        [15, 16, 17]],\n",
      "\n",
      "       [[18, 19, 20],\n",
      "        [21, 22, 23],\n",
      "        [24, 25, 26]]])]\n",
      "[array([[[ 0,  1,  2],\n",
      "        [ 3,  4,  5],\n",
      "        [ 6,  7,  8]],\n",
      "\n",
      "       [[ 9, 10, 11],\n",
      "        [12, 13, 14],\n",
      "        [15, 16, 17]],\n",
      "\n",
      "       [[18, 19, 20],\n",
      "        [21, 22, 23],\n",
      "        [24, 25, 26]]])]\n"
     ]
    }
   ],
   "source": [
    "# 分割\n",
    "a = np.arange(27).reshape(3,3,3)\n",
    "print(a)\n",
    "print(np.split(a, 3,axis=1))\n",
    "# 水平分割、垂直\n",
    "print(np.vsplit(a, 1))\n",
    "print(np.hsplit(a, 1))"
   ],
   "metadata": {
    "collapsed": false,
    "ExecuteTime": {
     "start_time": "2023-06-15T21:06:40.020732Z",
     "end_time": "2023-06-15T21:06:40.038051Z"
    }
   }
  },
  {
   "cell_type": "code",
   "execution_count": 179,
   "outputs": [
    {
     "name": "stdout",
     "output_type": "stream",
     "text": [
      "[[[ 0  1]\n",
      "  [ 2  3]\n",
      "  [ 4  5]\n",
      "  [ 6  7]]\n",
      "\n",
      " [[ 8  9]\n",
      "  [10 11]\n",
      "  [12 13]\n",
      "  [14 15]]\n",
      "\n",
      " [[16 17]\n",
      "  [18 19]\n",
      "  [20 21]\n",
      "  [22 23]]]\n",
      "[[[ 0  1  2]\n",
      "  [ 3  4  5]\n",
      "  [ 6  7  8]\n",
      "  [ 9 10 11]]\n",
      "\n",
      " [[12 13 14]\n",
      "  [15 16 17]\n",
      "  [18 19 20]\n",
      "  [21 22 23]]]\n",
      "[[[ 0  8 16]\n",
      "  [ 2 10 18]\n",
      "  [ 4 12 20]\n",
      "  [ 6 14 22]]\n",
      "\n",
      " [[ 1  9 17]\n",
      "  [ 3 11 19]\n",
      "  [ 5 13 21]\n",
      "  [ 7 15 23]]]\n"
     ]
    }
   ],
   "source": [
    "a = np.arange(24).reshape(3,4,2)\n",
    "print(a)\n",
    "# print(np.count_nonzero(a))\n",
    "# 转置\n",
    "            # print(a.reshape(2,4,3))\n",
    "print(a.T)"
   ],
   "metadata": {
    "collapsed": false,
    "ExecuteTime": {
     "start_time": "2023-06-15T21:16:35.117848Z",
     "end_time": "2023-06-15T21:16:35.132837Z"
    }
   }
  }
 ],
 "metadata": {
  "kernelspec": {
   "display_name": "Python 3",
   "language": "python",
   "name": "python3"
  },
  "language_info": {
   "codemirror_mode": {
    "name": "ipython",
    "version": 2
   },
   "file_extension": ".py",
   "mimetype": "text/x-python",
   "name": "python",
   "nbconvert_exporter": "python",
   "pygments_lexer": "ipython2",
   "version": "2.7.6"
  }
 },
 "nbformat": 4,
 "nbformat_minor": 0
}
